{
  "nbformat": 4,
  "nbformat_minor": 0,
  "metadata": {
    "colab": {
      "provenance": [],
      "authorship_tag": "ABX9TyOOM9WmZjPam+d+DqEFD/s6",
      "include_colab_link": true
    },
    "kernelspec": {
      "name": "python3",
      "display_name": "Python 3"
    },
    "language_info": {
      "name": "python"
    }
  },
  "cells": [
    {
      "cell_type": "markdown",
      "metadata": {
        "id": "view-in-github",
        "colab_type": "text"
      },
      "source": [
        "<a href=\"https://colab.research.google.com/github/altbalybalrhmn/Advanced-CNN-Architectures/blob/master/Week_2_assignment.ipynb\" target=\"_parent\"><img src=\"https://colab.research.google.com/assets/colab-badge.svg\" alt=\"Open In Colab\"/></a>"
      ]
    },
    {
      "cell_type": "markdown",
      "source": [
        "\n",
        "##**1**. project\n",
        "---\n",
        "\n"
      ],
      "metadata": {
        "id": "NFSyVTq4FDO2"
      }
    },
    {
      "cell_type": "code",
      "execution_count": null,
      "metadata": {
        "colab": {
          "base_uri": "https://localhost:8080/"
        },
        "id": "ovG6r2l6Df5D",
        "outputId": "83cfdf83-e80e-4ae9-e6f8-f090166cca1f"
      },
      "outputs": [
        {
          "output_type": "stream",
          "name": "stdout",
          "text": [
            "lutfen numaralarinizi giriniz : 1\n",
            "lutfen numaralarinizi giriniz : 2\n",
            "lutfen numaralarinizi giriniz : 3\n",
            "lutfen numaralarinizi giriniz : 4\n",
            "lutfen numaralarinizi giriniz : 5\n",
            "lutfen negative yada positif bir numarayi ekleyiniz : -2\n",
            "[3, 4, 5, 1, 2]\n"
          ]
        }
      ],
      "source": [
        "numara_list =[]\n",
        "for numbers in range(1,6) :\n",
        "  numara = int(input(\"lutfen numaralarinizi giriniz : \"))\n",
        "  numara_list.append(numara)\n",
        "\n",
        "\n",
        "#Here slicing would be very beneficial \n",
        "\n",
        "def shift(sart):\n",
        "  return numara_list[sart:] + numara_list[:sart]     \n",
        "\n",
        "sart = int(input(\"lutfen negative yada positif bir numarayi ekleyiniz : \"))\n",
        "print(shift(-sart))"
      ]
    },
    {
      "cell_type": "markdown",
      "source": [
        "##2. Proje"
      ],
      "metadata": {
        "id": "CMXGih9ag3S7"
      }
    },
    {
      "cell_type": "code",
      "source": [
        "\n",
        "def count_letters(input_giris):\n",
        "      result = {}\n",
        "      # Go through each letter in the text\n",
        "      for letter in input_giris:\n",
        "        if letter not in [\" \", ',' , \".\" ]:\n",
        "          # Check if the letter needs to be counted or not\n",
        "          if letter not in result:\n",
        "           result[letter.lower()] = 1\n",
        "          # Add or increment the value in the dictionary\n",
        "          else:\n",
        "            result[letter.lower()] += 1\n",
        "        else : pass\n",
        "      return result\n",
        "    \n",
        "\n",
        "input_giris = input(\"lutfen bir cumleyi ekleyiniz : \")\n",
        "\n",
        "dict_giris = count_letters(input_giris)\n",
        "dict_giris = sorted(list(dict_giris.items()))\n",
        "print(dict_giris)\n",
        "for i in dict_giris:\n",
        "  print(i)\n",
        "\n",
        "\n"
      ],
      "metadata": {
        "colab": {
          "base_uri": "https://localhost:8080/"
        },
        "id": "ndbBSmg7jEMr",
        "outputId": "ec6a6c3a-620e-4497-988a-8be1a1248e16"
      },
      "execution_count": 36,
      "outputs": [
        {
          "output_type": "stream",
          "name": "stdout",
          "text": [
            "lutfen bir cumleyi ekleyiniz : Abdulrhman saleh ahmed mohsen altabali\n",
            "[('a', 7), ('b', 2), ('d', 2), ('e', 3), ('h', 4), ('i', 1), ('l', 4), ('m', 3), ('n', 2), ('o', 1), ('r', 1), ('s', 2), ('t', 1), ('u', 1)]\n",
            "('a', 7)\n",
            "('b', 2)\n",
            "('d', 2)\n",
            "('e', 3)\n",
            "('h', 4)\n",
            "('i', 1)\n",
            "('l', 4)\n",
            "('m', 3)\n",
            "('n', 2)\n",
            "('o', 1)\n",
            "('r', 1)\n",
            "('s', 2)\n",
            "('t', 1)\n",
            "('u', 1)\n"
          ]
        }
      ]
    },
    {
      "cell_type": "markdown",
      "source": [
        "##3. soru cevabi"
      ],
      "metadata": {
        "id": "pCSJR0VRHXmA"
      }
    },
    {
      "cell_type": "code",
      "source": [
        "giris_1 = input('lutfen ilk kelimey giriniz :')\n",
        "giris_2 = input('lutfen ikinci kelimey giriniz :')\n",
        "\n",
        "  \n",
        "set_1= set()\n",
        "set_2=set()\n",
        "\n",
        "for i in giris_1:\n",
        "  set_1.add(i.lower())\n",
        "print(set_1)\n",
        "\n",
        "for j in giris_2:\n",
        "  set_2.add(j.lower())\n",
        "print(set_1)\n",
        "\n",
        "\n",
        "print(set_1.intersection(set_2))\n",
        "print(set_2.difference(set_1))\n",
        "print(set_1.difference(set_2))\n",
        "\n"
      ],
      "metadata": {
        "colab": {
          "base_uri": "https://localhost:8080/"
        },
        "id": "eM7-wpQT7P35",
        "outputId": "b44bb18c-4994-47bf-b7e7-5a0108536619"
      },
      "execution_count": 46,
      "outputs": [
        {
          "output_type": "stream",
          "name": "stdout",
          "text": [
            "lutfen ilk kelimey giriniz :soap\n",
            "lutfen ikinci kelimey giriniz :sharp\n",
            "{'p', 's', 'o', 'a'}\n",
            "{'p', 's', 'o', 'a'}\n",
            "{'a', 's', 'p'}\n",
            "{'h', 'r'}\n",
            "{'o'}\n"
          ]
        }
      ]
    }
  ]
}